{
 "cells": [
  {
   "cell_type": "markdown",
   "metadata": {},
   "source": [
    "# Apocalipsis zombie\n",
    "\n",
    "![](./images/thewalkingdead.jpeg)\n",
    "\n",
    "Cargas un arsenal de armas y una mochila con cargadores de munición de tamaño variable para algunos tipos de armas. ¿Cuántos zombies puedes matar antes de tener que echar a correr por tu vida? Deberás imprimir el resultado de cada caso que corresponde al número de balas que tienes de las armas que cargas.  \n",
    "\n",
    "ALGORITMO: Por cada arma diferente que cargas, tienes que comprobar si portas cargadores para ella. Si esto es afirmativo deberás sumar el total de balas que podrás disparar. "
   ]
  },
  {
   "cell_type": "markdown",
   "metadata": {},
   "source": [
    "## Caso 0: Ejemplo simple"
   ]
  },
  {
   "cell_type": "code",
   "execution_count": 7,
   "metadata": {},
   "outputs": [
    {
     "name": "stdout",
     "output_type": "stream",
     "text": [
      "You have 30 bullets\n"
     ]
    }
   ],
   "source": [
    "armas = ['pistola','escopeta']\n",
    "\n",
    "cargadores = {'pistola': [10, 10], 'escopeta': [2, 2, 2, 2, 2]}\n",
    "\n",
    "ammu = 0\n",
    "\n",
    "\n",
    "for arma in armas:\n",
    "    if arma in cargadores:\n",
    "        for balas in cargadores[arma]:\n",
    "            ammu += balas\n",
    "            \n",
    "print(\"You have\", ammu, \"bullets\")\n",
    "    \n",
    "    \n",
    "\n",
    "# your code\n"
   ]
  },
  {
   "cell_type": "markdown",
   "metadata": {},
   "source": [
    "**Output esperado** -> 30"
   ]
  },
  {
   "cell_type": "markdown",
   "metadata": {},
   "source": [
    "## Caso 1: Mismas armas que municiones"
   ]
  },
  {
   "cell_type": "code",
   "execution_count": 8,
   "metadata": {},
   "outputs": [
    {
     "name": "stdout",
     "output_type": "stream",
     "text": [
      "You have 158 bullets\n"
     ]
    }
   ],
   "source": [
    "armas = ['pistola', 'ametralladora', 'escopeta', 'fusil de francotirador']\n",
    "\n",
    "cargadores = {'pistola': [12, 13, 4, 5, 20, 17], 'ametralladora': [33, 40], \n",
    "              'escopeta': [2, 2, 2, 1], 'fusil de francotirador': [1, 2, 4]}\n",
    "\n",
    "\n",
    "ammu = 0\n",
    "\n",
    "\n",
    "for arma in armas:\n",
    "    if arma in cargadores:\n",
    "        for balas in cargadores[arma]:\n",
    "            ammu += balas\n",
    "            \n",
    "print(\"You have\", ammu, \"bullets\")"
   ]
  },
  {
   "cell_type": "markdown",
   "metadata": {},
   "source": [
    "## Caso 2: Más tipos de munición que armas"
   ]
  },
  {
   "cell_type": "code",
   "execution_count": 10,
   "metadata": {},
   "outputs": [
    {
     "name": "stdout",
     "output_type": "stream",
     "text": [
      "You have 158 bullets\n"
     ]
    }
   ],
   "source": [
    "armas = ['pistola', 'ametralladora', 'escopeta', 'fusil de francotirador']\n",
    "\n",
    "cargadores = {'pistola': [12, 13, 4, 5, 20, 17], 'ametralladora': [33, 40], \n",
    "    'escopeta': [2, 2, 2, 1],  'fusil de francotirador': [1, 2, 4],'bazoka': [1, 1]}\n",
    "\n",
    "\n",
    "ammu = 0\n",
    "\n",
    "\n",
    "for arma in armas:\n",
    "    if arma in cargadores:\n",
    "        for balas in cargadores[arma]:\n",
    "            ammu += balas\n",
    "            \n",
    "print(\"You have\", ammu, \"bullets\")    "
   ]
  },
  {
   "cell_type": "markdown",
   "metadata": {},
   "source": [
    "## Caso 3: Más armas que tipos de munición"
   ]
  },
  {
   "cell_type": "code",
   "execution_count": 11,
   "metadata": {},
   "outputs": [
    {
     "name": "stdout",
     "output_type": "stream",
     "text": [
      "You have 151 bullets\n"
     ]
    }
   ],
   "source": [
    "armas = ['pistola', 'ametralladora', 'escopeta', 'fusil de francotirador']\n",
    "\n",
    "cargadores = {'pistola': [12, 13, 4, 5, 20, 17], 'ametralladora': [33, 40], \n",
    "    'escopeta': [2, 2, 2, 1]}\n",
    "\n",
    "\n",
    "ammu = 0\n",
    "\n",
    "\n",
    "for arma in armas:\n",
    "    if arma in cargadores:\n",
    "        for balas in cargadores[arma]:\n",
    "            ammu += balas\n",
    "            \n",
    "print(\"You have\", ammu, \"bullets\")"
   ]
  }
 ],
 "metadata": {
  "kernelspec": {
   "display_name": "Python 3",
   "language": "python",
   "name": "python3"
  },
  "language_info": {
   "codemirror_mode": {
    "name": "ipython",
    "version": 3
   },
   "file_extension": ".py",
   "mimetype": "text/x-python",
   "name": "python",
   "nbconvert_exporter": "python",
   "pygments_lexer": "ipython3",
   "version": "3.8.2"
  }
 },
 "nbformat": 4,
 "nbformat_minor": 2
}
